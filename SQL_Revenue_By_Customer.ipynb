{
  "cells": [
    {
      "cell_type": "markdown",
      "metadata": {
        "id": "pKc0zaEVnsOH"
      },
      "source": [
        "#PyTorch Workflow"
      ]
    },
    {
      "cell_type": "code",
      "execution_count": null,
      "metadata": {
        "colab": {
          "base_uri": "https://localhost:8080/"
        },
        "id": "CoLBSnd7nryl",
        "outputId": "b9904f7b-03a7-4c18-847a-edbf30b38295"
      },
      "outputs": [
        {
          "data": {
            "text/plain": [
              "{1: 'data (prepare and load)',\n",
              " 2: 'build model',\n",
              " 3: 'fitting the model to data (training)',\n",
              " 4: 'making predictions and evaluting a model (interface)',\n",
              " 5: 'saving and loading a model',\n",
              " 6: 'putting it all together'}"
            ]
          },
          "execution_count": 1,
          "metadata": {},
          "output_type": "execute_result"
        }
      ],
      "source": [
        "what_were_covering={1: \"data (prepare and load)\",\n",
        "                    2: \"build model\",\n",
        "                    3: \"fitting the model to data (training)\",\n",
        "                    4: \"making predictions and evaluting a model (interface)\",\n",
        "                    5: \"saving and loading a model\",\n",
        "                    6: \"putting it all together\"}\n",
        "what_were_covering"
      ]
    },
    {
      "cell_type": "code",
      "execution_count": null,
      "metadata": {
        "id": "KBlVPRuznr1L"
      },
      "outputs": [],
      "source": [
        "import torch\n",
        "from torch import nn\n",
        "import matplotlib.pyplot as plt\n",
        "torch.__version__"
      ]
    },
    {
      "cell_type": "markdown",
      "metadata": {
        "id": "9M302amTo2nE"
      },
      "source": [
        "# *№1* data (prepare and load)"
      ]
    },
    {
      "cell_type": "code",
      "execution_count": null,
      "metadata": {
        "id": "u4g_2xqNnr4H"
      },
      "outputs": [],
      "source": [
        "weight = 0.7\n",
        "bias =0.3\n",
        "\n",
        "start=0\n",
        "end=1\n",
        "step =0.02\n",
        "X= torch.arange(start, end, step).unsqueeze(dim=1)\n",
        "Y=weight*X + bias\n",
        "\n",
        "X[:10], Y[:10], len(X), len(Y)"
      ]
    },
    {
      "cell_type": "code",
      "execution_count": null,
      "metadata": {
        "id": "3KfdJTclqJqn"
      },
      "outputs": [],
      "source": [
        "len(X), len(Y)"
      ]
    },
    {
      "cell_type": "markdown",
      "metadata": {
        "id": "-kTMHYCVwksn"
      },
      "source": [
        "#Test sets"
      ]
    },
    {
      "cell_type": "code",
      "execution_count": null,
      "metadata": {
        "id": "C2W9WMvaqJuS"
      },
      "outputs": [],
      "source": [
        "train_split=int(0.8*len(X))\n",
        "X_train, Y_train = X[:train_split], Y[:train_split]\n",
        "X_test, Y_test = X[train_split:], Y[train_split:]\n",
        "\n",
        "len(X_train), len(Y_train), len(X_test), len(Y_test)"
      ]
    },
    {
      "cell_type": "code",
      "execution_count": null,
      "metadata": {
        "id": "MpjBSSjZqJxP"
      },
      "outputs": [],
      "source": [
        "X_train, Y_train"
      ]
    },
    {
      "cell_type": "code",
      "execution_count": null,
      "metadata": {
        "id": "vTEIJA_ixdW3"
      },
      "outputs": [],
      "source": [
        "def plot_predictions(train_data=X_train,\n",
        "                     train_labels=Y_train,\n",
        "                     test_data=X_test,\n",
        "                     test_labels=Y_test,\n",
        "                     predictions=None):\n",
        "    \"\"\"\n",
        "    Plots training data, test data and compare predictions\n",
        "    \"\"\"\n",
        "    plt.figure(figsize=(10, 7))\n",
        "\n",
        "    plt.scatter(train_data, train_labels, c=\"b\", s=4, label=\"Training data\")\n",
        "\n",
        "    if predictions is not None:\n",
        "        plt.scatter(test_data, predictions, c=\"r\", s=4, label=\"Predictions\")\n",
        "\n",
        "    plt.legend(prop={\"size\":14})\n"
      ]
    },
    {
      "cell_type": "code",
      "execution_count": null,
      "metadata": {
        "id": "LJEDDVhKxdZZ"
      },
      "outputs": [],
      "source": [
        "plot_predictions();"
      ]
    },
    {
      "cell_type": "markdown",
      "metadata": {
        "id": "l_vSbHajOjBi"
      },
      "source": [
        "#Build model"
      ]
    },
    {
      "cell_type": "code",
      "execution_count": null,
      "metadata": {
        "id": "fZzoLHMmxdfW"
      },
      "outputs": [],
      "source": [
        "import torch\n",
        "from torch import nn\n",
        "\n",
        "class LinearRegressionModel(nn.Module):\n",
        "  def __init__(self):\n",
        "     super().__init__()\n",
        "     self.weights=nn.Parameter(torch.randn(1,\n",
        "                                          requires_grad=True,\n",
        "                                          dtype=torch.float))\n",
        "     self.bias=nn.Parameter(torch.randn(1,\n",
        "                                          requires_grad=True,\n",
        "                                          dtype=torch.float))\n",
        "\n",
        "  def forward(self, x: torch.Tensor)->torch.Tensor:\n",
        "      return self.weights *x+self.bias\n",
        "\n",
        "\n"
      ]
    },
    {
      "cell_type": "code",
      "execution_count": null,
      "metadata": {
        "id": "PlZTaXt1z0kW"
      },
      "outputs": [],
      "source": [
        "#model_0.state_dict()"
      ]
    },
    {
      "cell_type": "code",
      "execution_count": null,
      "metadata": {
        "id": "pCuxfqg-TUR-"
      },
      "outputs": [],
      "source": [
        "torch.randn(1)"
      ]
    },
    {
      "cell_type": "code",
      "execution_count": null,
      "metadata": {
        "id": "_Qna2PDtxdiI"
      },
      "outputs": [],
      "source": [
        "torch.manual_seed(42)\n",
        "model_0 = LinearRegressionModel()\n",
        "list(model_0.parameters())\n"
      ]
    },
    {
      "cell_type": "code",
      "execution_count": null,
      "metadata": {
        "id": "VbnH8XATxdky"
      },
      "outputs": [],
      "source": [
        "model_0.state_dict()"
      ]
    },
    {
      "cell_type": "code",
      "execution_count": null,
      "metadata": {
        "id": "1UQvF8edTi68"
      },
      "outputs": [],
      "source": [
        "weight, bias"
      ]
    },
    {
      "cell_type": "code",
      "execution_count": null,
      "metadata": {
        "id": "s9bYOOcIW2zP"
      },
      "outputs": [],
      "source": [
        "X_test, Y_test"
      ]
    },
    {
      "cell_type": "code",
      "execution_count": null,
      "metadata": {
        "id": "hqYHEuI9Yznj"
      },
      "outputs": [],
      "source": [
        "y_preds=model_0(X_test)\n",
        "y_preds"
      ]
    },
    {
      "cell_type": "code",
      "execution_count": null,
      "metadata": {
        "id": "ZbGbMrTITi9n"
      },
      "outputs": [],
      "source": [
        "model_0 = LinearRegressionModel()\n",
        "with torch.inference_mode():\n",
        "    y_preds = model_0(X_test)\n",
        "y_preds\n"
      ]
    },
    {
      "cell_type": "code",
      "execution_count": null,
      "metadata": {
        "id": "DpqJUjYHTjAn"
      },
      "outputs": [],
      "source": [
        "Y_test"
      ]
    },
    {
      "cell_type": "code",
      "execution_count": null,
      "metadata": {
        "id": "MX2wVmcNTjDt"
      },
      "outputs": [],
      "source": [
        "plot_predictions(predictions=y_preds)"
      ]
    },
    {
      "cell_type": "markdown",
      "metadata": {
        "id": "ioVYqjj3Zjn7"
      },
      "source": [
        "#Train model"
      ]
    },
    {
      "cell_type": "code",
      "execution_count": null,
      "metadata": {
        "id": "tn2r_RrwTjGg"
      },
      "outputs": [],
      "source": [
        "model_0.parameters()"
      ]
    },
    {
      "cell_type": "code",
      "execution_count": null,
      "metadata": {
        "id": "dKjxDH_ETjJw"
      },
      "outputs": [],
      "source": [
        "list(model_0.parameters())"
      ]
    },
    {
      "cell_type": "code",
      "execution_count": null,
      "metadata": {
        "id": "1FrtWwcITjM4"
      },
      "outputs": [],
      "source": [
        "model_0.state_dict()"
      ]
    },
    {
      "cell_type": "code",
      "execution_count": null,
      "metadata": {
        "colab": {
          "background_save": true
        },
        "id": "03AsZpdpxdoX"
      },
      "outputs": [],
      "source": [
        "loss_fn=nn.L1Loss()\n",
        "\n",
        "optimizer=torch.optim.SGD(params=model_0.parameters(),\n",
        "                          lr=0.1)"
      ]
    },
    {
      "cell_type": "markdown",
      "metadata": {
        "id": "dZreGezoc7OH"
      },
      "source": [
        "#Building a training loop on PyTorch"
      ]
    },
    {
      "cell_type": "code",
      "execution_count": null,
      "metadata": {
        "colab": {
          "background_save": true
        },
        "id": "hJ4b56nheuY0",
        "outputId": "051b3de9-1287-4c84-e32e-168d3bf937b1"
      },
      "outputs": [
        {
          "data": {
            "text/plain": [
              "[Parameter containing:\n",
              " tensor([0.2345], requires_grad=True),\n",
              " Parameter containing:\n",
              " tensor([0.2303], requires_grad=True)]"
            ]
          },
          "execution_count": 24,
          "metadata": {},
          "output_type": "execute_result"
        }
      ],
      "source": [
        "list(model_0.eval().parameters())"
      ]
    },
    {
      "cell_type": "code",
      "execution_count": null,
      "metadata": {
        "colab": {
          "background_save": true
        },
        "id": "HuRofvEQefDZ",
        "outputId": "fe685ce9-0ce5-49c0-d47c-02c8ef0cff0a"
      },
      "outputs": [
        {
          "data": {
            "text/plain": [
              "[Parameter containing:\n",
              " tensor([0.2345], requires_grad=True),\n",
              " Parameter containing:\n",
              " tensor([0.2303], requires_grad=True)]"
            ]
          },
          "execution_count": 25,
          "metadata": {},
          "output_type": "execute_result"
        }
      ],
      "source": [
        "list(model_0.parameters())"
      ]
    },
    {
      "cell_type": "code",
      "execution_count": null,
      "metadata": {
        "colab": {
          "background_save": true
        },
        "id": "CnPgK8hLnOTE"
      },
      "outputs": [],
      "source": [
        "loss_fn=nn.L1Loss()\n",
        "\n",
        "optimizer=torch.optim.SGD(params=model_0.parameters(),\n",
        "                          lr=0.01)"
      ]
    },
    {
      "cell_type": "code",
      "execution_count": null,
      "metadata": {
        "colab": {
          "background_save": true
        },
        "id": "YyxnkBT8qJz5",
        "outputId": "68e42809-bac6-4872-a034-c62b6fd35f9c"
      },
      "outputs": [
        {
          "name": "stdout",
          "output_type": "stream",
          "text": [
            "Epoch 0, Loss: 0.25122663378715515\n",
            "Epoch 1, Loss: 0.2397056519985199\n",
            "Epoch 2, Loss: 0.22818461060523987\n",
            "Epoch 3, Loss: 0.2166636437177658\n",
            "Epoch 4, Loss: 0.20514264702796936\n",
            "Epoch 5, Loss: 0.1936216503381729\n",
            "Epoch 6, Loss: 0.18210068345069885\n",
            "Epoch 7, Loss: 0.17059633135795593\n",
            "Epoch 8, Loss: 0.16010764241218567\n",
            "Epoch 9, Loss: 0.150575190782547\n",
            "Epoch:10 | Loss:0.150575190782547 | Test loss:0.3523210883140564\n",
            "Epoch 10, Loss: 0.14193940162658691\n",
            "Epoch 11, Loss: 0.13414055109024048\n",
            "Epoch 12, Loss: 0.1271185278892517\n",
            "Epoch 13, Loss: 0.1208127960562706\n",
            "Epoch 14, Loss: 0.11522618681192398\n",
            "Epoch 15, Loss: 0.10992656648159027\n",
            "Epoch 16, Loss: 0.10522427409887314\n",
            "Epoch 17, Loss: 0.10105693340301514\n",
            "Epoch 18, Loss: 0.09736667573451996\n",
            "Epoch 19, Loss: 0.09395559877157211\n",
            "Epoch:20 | Loss:0.09395559877157211 | Test loss:0.2586209177970886\n",
            "Epoch 20, Loss: 0.09095562994480133\n",
            "Epoch 21, Loss: 0.08830587565898895\n",
            "Epoch 22, Loss: 0.0858907550573349\n",
            "Epoch 23, Loss: 0.08375857770442963\n",
            "Epoch 24, Loss: 0.08196456730365753\n",
            "Epoch 25, Loss: 0.08023977279663086\n",
            "Epoch 26, Loss: 0.07880252599716187\n",
            "Epoch 27, Loss: 0.07739516347646713\n",
            "Epoch 28, Loss: 0.07626615464687347\n",
            "Epoch 29, Loss: 0.07513715326786041\n",
            "Epoch:30 | Loss:0.07513715326786041 | Test loss:0.20397266745567322\n",
            "Epoch 30, Loss: 0.07409852743148804\n",
            "Epoch 31, Loss: 0.0732283666729927\n",
            "Epoch 32, Loss: 0.07235820591449738\n",
            "Epoch 33, Loss: 0.07157193124294281\n",
            "Epoch 34, Loss: 0.0709102526307106\n",
            "Epoch 35, Loss: 0.0702485591173172\n",
            "Epoch 36, Loss: 0.0695953443646431\n",
            "Epoch 37, Loss: 0.06909073889255524\n",
            "Epoch 38, Loss: 0.06858612596988678\n",
            "Epoch 39, Loss: 0.06808152049779892\n",
            "Epoch:40 | Loss:0.06808152049779892 | Test loss:0.17356665432453156\n",
            "Epoch 40, Loss: 0.06757690757513046\n",
            "Epoch 41, Loss: 0.0670723021030426\n",
            "Epoch 42, Loss: 0.06662953644990921\n",
            "Epoch 43, Loss: 0.06622954457998276\n",
            "Epoch 44, Loss: 0.06582953780889511\n",
            "Epoch 45, Loss: 0.06542953848838806\n",
            "Epoch 46, Loss: 0.06502953171730042\n",
            "Epoch 47, Loss: 0.06462953239679337\n",
            "Epoch 48, Loss: 0.06422953307628632\n",
            "Epoch 49, Loss: 0.06383822858333588\n",
            "Epoch:50 | Loss:0.06383822858333588 | Test loss:0.15510645508766174\n",
            "Epoch 50, Loss: 0.06348922103643417\n",
            "Epoch 51, Loss: 0.06314022839069366\n",
            "Epoch 52, Loss: 0.06279122084379196\n",
            "Epoch 53, Loss: 0.062442224472761154\n",
            "Epoch 54, Loss: 0.06209322810173035\n",
            "Epoch 55, Loss: 0.06174423545598984\n",
            "Epoch 56, Loss: 0.061395227909088135\n",
            "Epoch 57, Loss: 0.06104623153805733\n",
            "Epoch 58, Loss: 0.06069723516702652\n",
            "Epoch 59, Loss: 0.06034822016954422\n",
            "Epoch:60 | Loss:0.06034822016954422 | Test loss:0.14408639073371887\n",
            "Epoch 60, Loss: 0.05999922752380371\n",
            "Epoch 61, Loss: 0.0596502311527729\n",
            "Epoch 62, Loss: 0.0593012273311615\n",
            "Epoch 63, Loss: 0.058952223509550095\n",
            "Epoch 64, Loss: 0.05860321968793869\n",
            "Epoch 65, Loss: 0.058254219591617584\n",
            "Epoch 66, Loss: 0.057905226945877075\n",
            "Epoch 67, Loss: 0.05755623057484627\n",
            "Epoch 68, Loss: 0.05720722675323486\n",
            "Epoch 69, Loss: 0.056858230382204056\n",
            "Epoch:70 | Loss:0.056858230382204056 | Test loss:0.1330663114786148\n",
            "Epoch 70, Loss: 0.05650923401117325\n",
            "Epoch 71, Loss: 0.056160230189561844\n",
            "Epoch 72, Loss: 0.05581122636795044\n",
            "Epoch 73, Loss: 0.05546222999691963\n",
            "Epoch 74, Loss: 0.05512279272079468\n",
            "Epoch 75, Loss: 0.05477702617645264\n",
            "Epoch 76, Loss: 0.05443377420306206\n",
            "Epoch 77, Loss: 0.05409182980656624\n",
            "Epoch 78, Loss: 0.053744763135910034\n",
            "Epoch 79, Loss: 0.05340662598609924\n",
            "Epoch:80 | Loss:0.05340662598609924 | Test loss:0.12410688400268555\n",
            "Epoch 80, Loss: 0.05305762216448784\n",
            "Epoch 81, Loss: 0.05271955579519272\n",
            "Epoch 82, Loss: 0.05237242579460144\n",
            "Epoch 83, Loss: 0.05203055217862129\n",
            "Epoch 84, Loss: 0.05168722942471504\n",
            "Epoch 85, Loss: 0.05134153366088867\n",
            "Epoch 86, Loss: 0.05100201815366745\n",
            "Epoch 87, Loss: 0.050653018057346344\n",
            "Epoch 88, Loss: 0.050316326320171356\n",
            "Epoch 89, Loss: 0.049967821687459946\n",
            "Epoch:90 | Loss:0.049967821687459946 | Test loss:0.11583435535430908\n",
            "Epoch 90, Loss: 0.04962732270359993\n",
            "Epoch 91, Loss: 0.04928262159228325\n",
            "Epoch 92, Loss: 0.04893830046057701\n",
            "Epoch 93, Loss: 0.048597414046525955\n",
            "Epoch 94, Loss: 0.048249296844005585\n",
            "Epoch 95, Loss: 0.04791221022605896\n",
            "Epoch 96, Loss: 0.04756321385502815\n",
            "Epoch 97, Loss: 0.04722408950328827\n",
            "Epoch 98, Loss: 0.04687801003456116\n",
            "Epoch 99, Loss: 0.04653507471084595\n",
            "Epoch:100 | Loss:0.04653507471084595 | Test loss:0.10824868828058243\n",
            "OrderedDict([('weights', tensor([0.4701])), ('bias', tensor([0.3963]))])\n"
          ]
        }
      ],
      "source": [
        "from ast import mod\n",
        "epochs=100\n",
        "\n",
        "for epoch in range(epochs):\n",
        "  model_0.train()\n",
        "\n",
        "  y_pred =model_0(X_train)\n",
        "  loss=loss_fn(y_pred, Y_train)\n",
        "  print(f\"Epoch {epoch}, Loss: {loss.item()}\")\n",
        "\n",
        "  optimizer.zero_grad()\n",
        "\n",
        "  loss.backward()\n",
        "\n",
        "  optimizer.step()\n",
        "\n",
        "  model_0.eval()\n",
        "  with torch.inference_mode():\n",
        "    #with torch.no_grad():\n",
        "      test_pred=model_0(X_test)\n",
        "      test_loss=loss_fn(test_pred, Y_test)\n",
        "  if (epoch + 1) % 10 == 0:\n",
        "    print(f\"Epoch:{epoch+1} | Loss:{loss} | Test loss:{test_loss}\")\n",
        "\n",
        "print(model_0.state_dict())\n",
        "\n"
      ]
    },
    {
      "cell_type": "code",
      "execution_count": null,
      "metadata": {
        "colab": {
          "background_save": true
        },
        "id": "BAYMucNQ0vvQ"
      },
      "outputs": [],
      "source": [
        "with torch.inference_mode():\n",
        "  y_preds_new=model_0(X_test)"
      ]
    },
    {
      "cell_type": "code",
      "execution_count": null,
      "metadata": {
        "colab": {
          "background_save": true
        },
        "id": "K2XYXWscqJ2P",
        "outputId": "42702918-81e1-44df-ca43-0a6084b8c9e8"
      },
      "outputs": [
        {
          "data": {
            "text/plain": [
              "OrderedDict([('weights', tensor([0.4701])), ('bias', tensor([0.3963]))])"
            ]
          },
          "execution_count": 29,
          "metadata": {},
          "output_type": "execute_result"
        }
      ],
      "source": [
        "model_0.state_dict()"
      ]
    },
    {
      "cell_type": "code",
      "execution_count": null,
      "metadata": {
        "colab": {
          "background_save": true
        },
        "id": "LRuTSMDoz5Vb",
        "outputId": "e4f23c1c-b4e2-4245-fdd4-5a0f3cc2bbb0"
      },
      "outputs": [
        {
          "data": {
            "text/plain": [
              "(0.7, 0.3)"
            ]
          },
          "execution_count": 30,
          "metadata": {},
          "output_type": "execute_result"
        }
      ],
      "source": [
        "weight, bias"
      ]
    },
    {
      "cell_type": "code",
      "execution_count": null,
      "metadata": {
        "colab": {
          "background_save": true
        },
        "id": "VSJm8-Z70RmB",
        "outputId": "30c4eecd-54ec-4429-a11f-ec19236687fb"
      },
      "outputs": [
        {
          "data": {
            "image/png": "[encoded data removed]",
            "text/plain": [
              "<Figure size 1000x700 with 1 Axes>"
            ]
          },
          "metadata": {},
          "output_type": "display_data"
        }
      ],
      "source": [
        "plot_predictions(predictions=y_preds);"
      ]
    },
    {
      "cell_type": "code",
      "execution_count": null,
      "metadata": {
        "colab": {
          "background_save": true
        },
        "id": "9Oq7UM0g0Roz",
        "outputId": "dff69543-cd07-4a70-ecdb-2551cbe75339"
      },
      "outputs": [
        {
          "data": {
            "image/png": "[encoded data removed]",
            "text/plain": [
              "<Figure size 1000x700 with 1 Axes>"
            ]
          },
          "metadata": {},
          "output_type": "display_data"
        }
      ],
      "source": [
        "plot_predictions(predictions=y_preds_new);"
      ]
    },
    {
      "cell_type": "markdown",
      "metadata": {
        "id": "p69kPsgGsRiU"
      },
      "source": [
        "#Saving a model in PyTorch"
      ]
    },
    {
      "cell_type": "code",
      "execution_count": null,
      "metadata": {
        "colab": {
          "background_save": true
        },
        "id": "t_h8stLt0Rrn",
        "outputId": "008c7893-2141-405b-b8aa-f21adca1051c"
      },
      "outputs": [
        {
          "name": "stdout",
          "output_type": "stream",
          "text": [
            "Saving model to: models/Untitled1.pth\n"
          ]
        }
      ],
      "source": [
        "from pathlib import Path\n",
        "\n",
        "MODEL_PATH=Path(\"models\")\n",
        "MODEL_PATH.mkdir(parents=True, exist_ok=True)\n",
        "\n",
        "MODEL_NAME=\"Untitled1.pth\"\n",
        "MODEL_SAVE_PATH = MODEL_PATH/MODEL_NAME\n",
        "MODEL_SAVE_PATH\n",
        "\n",
        "print(f\"Saving model to: {MODEL_SAVE_PATH}\")\n",
        "torch.save(obj=model_0.state_dict(),\n",
        "           f=MODEL_SAVE_PATH)\n"
      ]
    },
    {
      "cell_type": "code",
      "execution_count": null,
      "metadata": {
        "colab": {
          "background_save": true
        },
        "id": "OQF_5pG7nWr4",
        "outputId": "744dc1fd-bbd8-4f62-8ebd-fa064e8d1be2"
      },
      "outputs": [
        {
          "name": "stdout",
          "output_type": "stream",
          "text": [
            "total 4\n",
            "-rw-r--r-- 1 root root 1508 Jun 22 14:12 Untitled1.pth\n"
          ]
        }
      ],
      "source": [
        "!ls -l models/"
      ]
    },
    {
      "cell_type": "code",
      "execution_count": null,
      "metadata": {
        "colab": {
          "background_save": true
        },
        "id": "J9PNj8gOnWuT",
        "outputId": "f6d558bf-34ca-4225-a399-257bca0053bd"
      },
      "outputs": [
        {
          "data": {
            "text/plain": [
              "OrderedDict([('weights', tensor([0.4701])), ('bias', tensor([0.3963]))])"
            ]
          },
          "execution_count": 35,
          "metadata": {},
          "output_type": "execute_result"
        }
      ],
      "source": [
        "model_0.state_dict()"
      ]
    },
    {
      "cell_type": "code",
      "execution_count": null,
      "metadata": {
        "colab": {
          "background_save": true
        },
        "id": "mNsNR8n_nWw6",
        "outputId": "3a1254d1-49f1-4d81-8325-8a2fc636118a"
      },
      "outputs": [
        {
          "data": {
            "text/plain": [
              "<All keys matched successfully>"
            ]
          },
          "execution_count": 36,
          "metadata": {},
          "output_type": "execute_result"
        }
      ],
      "source": [
        "loaded_model_0 = LinearRegressionModel()\n",
        "\n",
        "loaded_model_0.load_state_dict(torch.load(f=MODEL_SAVE_PATH))"
      ]
    },
    {
      "cell_type": "code",
      "execution_count": null,
      "metadata": {
        "colab": {
          "background_save": true
        },
        "id": "DFTkTx4XnWzh",
        "outputId": "0905df86-28be-4147-fe82-5433ed8b2055"
      },
      "outputs": [
        {
          "data": {
            "text/plain": [
              "OrderedDict([('weights', tensor([0.4701])), ('bias', tensor([0.3963]))])"
            ]
          },
          "execution_count": 37,
          "metadata": {},
          "output_type": "execute_result"
        }
      ],
      "source": [
        "loaded_model_0.state_dict()"
      ]
    },
    {
      "cell_type": "code",
      "execution_count": null,
      "metadata": {
        "colab": {
          "background_save": true
        },
        "id": "_UeaWwkYnW2I",
        "outputId": "336ffe30-5529-4b46-b6d1-b1ab06be2f0e"
      },
      "outputs": [
        {
          "data": {
            "text/plain": [
              "tensor([[0.7724],\n",
              "        [0.7818],\n",
              "        [0.7912],\n",
              "        [0.8006],\n",
              "        [0.8101],\n",
              "        [0.8195],\n",
              "        [0.8289],\n",
              "        [0.8383],\n",
              "        [0.8477],\n",
              "        [0.8571]])"
            ]
          },
          "execution_count": 38,
          "metadata": {},
          "output_type": "execute_result"
        }
      ],
      "source": [
        "loaded_model_0.eval()\n",
        "with torch.inference_mode():\n",
        "  loaded_model_preds = loaded_model_0(X_test)\n",
        "\n",
        "loaded_model_preds"
      ]
    },
    {
      "cell_type": "code",
      "execution_count": null,
      "metadata": {
        "colab": {
          "background_save": true
        },
        "id": "NoJlHr2tnW5i",
        "outputId": "785b57c6-412c-469b-d7b2-af36ced6e0fa"
      },
      "outputs": [
        {
          "data": {
            "text/plain": [
              "tensor([[False],\n",
              "        [False],\n",
              "        [False],\n",
              "        [False],\n",
              "        [False],\n",
              "        [False],\n",
              "        [False],\n",
              "        [False],\n",
              "        [False],\n",
              "        [False]])"
            ]
          },
          "execution_count": 39,
          "metadata": {},
          "output_type": "execute_result"
        }
      ],
      "source": [
        "y_preds==loaded_model_preds"
      ]
    },
    {
      "cell_type": "code",
      "execution_count": null,
      "metadata": {
        "colab": {
          "background_save": true
        },
        "id": "V6TBxOeg0Ruk",
        "outputId": "21f3c719-7e31-4a57-aba3-fc61639e6ad4"
      },
      "outputs": [
        {
          "data": {
            "text/plain": [
              "tensor([[0.4179],\n",
              "        [0.4226],\n",
              "        [0.4273],\n",
              "        [0.4320],\n",
              "        [0.4367],\n",
              "        [0.4413],\n",
              "        [0.4460],\n",
              "        [0.4507],\n",
              "        [0.4554],\n",
              "        [0.4601]])"
            ]
          },
          "execution_count": 40,
          "metadata": {},
          "output_type": "execute_result"
        }
      ],
      "source": [
        "y_preds"
      ]
    },
    {
      "cell_type": "code",
      "execution_count": null,
      "metadata": {
        "colab": {
          "background_save": true
        },
        "id": "6UpCskhK0RyV",
        "outputId": "0c739f85-0c71-4ff6-81bc-d1dc0c35d516"
      },
      "outputs": [
        {
          "data": {
            "text/plain": [
              "tensor([[0.7724],\n",
              "        [0.7818],\n",
              "        [0.7912],\n",
              "        [0.8006],\n",
              "        [0.8101],\n",
              "        [0.8195],\n",
              "        [0.8289],\n",
              "        [0.8383],\n",
              "        [0.8477],\n",
              "        [0.8571]])"
            ]
          },
          "execution_count": 41,
          "metadata": {},
          "output_type": "execute_result"
        }
      ],
      "source": [
        "model_0.eval()\n",
        "with torch.inference_mode():\n",
        "  y_preds=model_0(X_test)\n",
        "y_preds"
      ]
    },
    {
      "cell_type": "code",
      "execution_count": null,
      "metadata": {
        "colab": {
          "background_save": true
        },
        "id": "zKl9TmalvneS",
        "outputId": "6fffa044-8d06-4e50-8657-ccacd30efc66"
      },
      "outputs": [
        {
          "data": {
            "application/vnd.google.colaboratory.intrinsic+json": {
              "type": "string"
            },
            "text/plain": [
              "'2.6.0+cu124'"
            ]
          },
          "execution_count": 42,
          "metadata": {},
          "output_type": "execute_result"
        }
      ],
      "source": [
        "import torch\n",
        "from torch import nn\n",
        "import matplotlib.pyplot as plt\n",
        "\n",
        "torch.__version__"
      ]
    },
    {
      "cell_type": "code",
      "execution_count": null,
      "metadata": {
        "colab": {
          "background_save": true
        },
        "id": "PF2y8qvDvngv",
        "outputId": "58230548-0b73-4de2-ccf4-eb2d7765a1bd"
      },
      "outputs": [
        {
          "name": "stdout",
          "output_type": "stream",
          "text": [
            "Using device: cuda\n"
          ]
        }
      ],
      "source": [
        "device=\"cuda\" if torch.cuda.is_available() else \"cpu\"\n",
        "print(f\"Using device: {device}\")\n"
      ]
    },
    {
      "cell_type": "code",
      "execution_count": null,
      "metadata": {
        "colab": {
          "background_save": true
        },
        "id": "PPbZarovvnjK",
        "outputId": "0003dafc-abd5-4fc7-a8ca-5852c060807b"
      },
      "outputs": [
        {
          "name": "stdout",
          "output_type": "stream",
          "text": [
            "Sun Jun 22 14:12:03 2025       \n",
            "+-----------------------------------------------------------------------------------------+\n",
            "| NVIDIA-SMI 550.54.15              Driver Version: 550.54.15      CUDA Version: 12.4     |\n",
            "|-----------------------------------------+------------------------+----------------------+\n",
            "| GPU  Name                 Persistence-M | Bus-Id          Disp.A | Volatile Uncorr. ECC |\n",
            "| Fan  Temp   Perf          Pwr:Usage/Cap |           Memory-Usage | GPU-Util  Compute M. |\n",
            "|                                         |                        |               MIG M. |\n",
            "|=========================================+========================+======================|\n",
            "|   0  Tesla T4                       Off |   00000000:00:04.0 Off |                    0 |\n",
            "| N/A   57C    P8             13W /   70W |       2MiB /  15360MiB |      0%      Default |\n",
            "|                                         |                        |                  N/A |\n",
            "+-----------------------------------------+------------------------+----------------------+\n",
            "                                                                                         \n",
            "+-----------------------------------------------------------------------------------------+\n",
            "| Processes:                                                                              |\n",
            "|  GPU   GI   CI        PID   Type   Process name                              GPU Memory |\n",
            "|        ID   ID                                                               Usage      |\n",
            "|=========================================================================================|\n",
            "|  No running processes found                                                             |\n",
            "+-----------------------------------------------------------------------------------------+\n"
          ]
        }
      ],
      "source": [
        "!nvidia-smi"
      ]
    },
    {
      "cell_type": "markdown",
      "metadata": {
        "id": "W1La4HMNxrOk"
      },
      "source": [
        "#Data"
      ]
    },
    {
      "cell_type": "code",
      "execution_count": null,
      "metadata": {
        "colab": {
          "background_save": true
        },
        "id": "0kDrBxOzvnof",
        "outputId": "bf4fdb47-9f91-41b8-fdfd-ea13992afe5f"
      },
      "outputs": [
        {
          "data": {
            "text/plain": [
              "(tensor([[0.0000],\n",
              "         [0.0200],\n",
              "         [0.0400],\n",
              "         [0.0600],\n",
              "         [0.0800],\n",
              "         [0.1000],\n",
              "         [0.1200],\n",
              "         [0.1400],\n",
              "         [0.1600],\n",
              "         [0.1800]]),\n",
              " tensor([[0.3000],\n",
              "         [0.3140],\n",
              "         [0.3280],\n",
              "         [0.3420],\n",
              "         [0.3560],\n",
              "         [0.3700],\n",
              "         [0.3840],\n",
              "         [0.3980],\n",
              "         [0.4120],\n",
              "         [0.4260]]))"
            ]
          },
          "execution_count": 45,
          "metadata": {},
          "output_type": "execute_result"
        }
      ],
      "source": [
        "weight=0.7\n",
        "bias=0.3\n",
        "\n",
        "start=0\n",
        "end=1\n",
        "step=0.02\n",
        "\n",
        "X=torch.arange(start, end, step).unsqueeze(dim=1)\n",
        "y=weight*X+bias\n",
        "X[:10], y[:10]"
      ]
    },
    {
      "cell_type": "code",
      "execution_count": null,
      "metadata": {
        "colab": {
          "background_save": true
        },
        "id": "FwxNreWXvnsx",
        "outputId": "246c8f41-3f47-4f5c-b097-9b6daf392c0c"
      },
      "outputs": [
        {
          "data": {
            "text/plain": [
              "(40, 40, 10, 10)"
            ]
          },
          "execution_count": 46,
          "metadata": {},
          "output_type": "execute_result"
        }
      ],
      "source": [
        "train_split=int(0.8*len(X))\n",
        "X_train, Y_train = X[:train_split], y[:train_split]\n",
        "X_test, Y_test = X[train_split:], y[train_split:]\n",
        "len(X_train), len(Y_train), len(X_test), len(Y_test)"
      ]
    },
    {
      "cell_type": "code",
      "execution_count": null,
      "metadata": {
        "colab": {
          "background_save": true
        },
        "id": "-fPQIqOFyJ5p",
        "outputId": "9c77c2e1-0871-4f44-d99d-89695461fc05"
      },
      "outputs": [
        {
          "data": {
            "image/png": "[encoded data removed]",
            "text/plain": [
              "<Figure size 1000x700 with 1 Axes>"
            ]
          },
          "metadata": {},
          "output_type": "display_data"
        }
      ],
      "source": [
        "plot_predictions(X_train, Y_train, X_test, Y_test)"
      ]
    },
    {
      "cell_type": "markdown",
      "metadata": {
        "id": "35Ne8FWYzBbg"
      },
      "source": [
        "#Building a PyTorch Linear model"
      ]
    },
    {
      "cell_type": "code",
      "execution_count": null,
      "metadata": {
        "colab": {
          "background_save": true
        },
        "id": "PN8JLCg4yJ8Z",
        "outputId": "5fb97840-b6eb-4776-c0c7-9f3433584eec"
      },
      "outputs": [
        {
          "data": {
            "text/plain": [
              "(LinearRegressionModelV2(\n",
              "   (linear_layer): Linear(in_features=1, out_features=1, bias=True)\n",
              " ),\n",
              " OrderedDict([('linear_layer.weight', tensor([[0.7645]])),\n",
              "              ('linear_layer.bias', tensor([0.8300]))]))"
            ]
          },
          "execution_count": 48,
          "metadata": {},
          "output_type": "execute_result"
        }
      ],
      "source": [
        "class LinearRegressionModelV2(nn.Module):\n",
        "  def __init__(self):\n",
        "    super().__init__()\n",
        "    self.linear_layer=nn.Linear(in_features=1,\n",
        "                                out_features=1)\n",
        "\n",
        "  def forward(self,x: torch.Tensor) -> torch.Tensor:\n",
        "    return self.linear_layer(x)\n",
        "\n",
        "torch.manual_seed(42)\n",
        "model_1 = LinearRegressionModelV2()\n",
        "model_1, model_1.state_dict()"
      ]
    },
    {
      "cell_type": "code",
      "execution_count": null,
      "metadata": {
        "colab": {
          "background_save": true
        },
        "id": "Q1FPmKk_llPE",
        "outputId": "d13c0c2d-228c-40dc-b4f8-b12761acda3b"
      },
      "outputs": [
        {
          "data": {
            "text/plain": [
              "OrderedDict([('linear_layer.weight', tensor([[0.7645]])),\n",
              "             ('linear_layer.bias', tensor([0.8300]))])"
            ]
          },
          "execution_count": 49,
          "metadata": {},
          "output_type": "execute_result"
        }
      ],
      "source": [
        "model_1.state_dict()"
      ]
    },
    {
      "cell_type": "code",
      "execution_count": null,
      "metadata": {
        "colab": {
          "background_save": true
        },
        "id": "_jD9ItOzyJ_K",
        "outputId": "088d98cd-4a7d-4d99-900b-043eced3aee7"
      },
      "outputs": [
        {
          "data": {
            "text/plain": [
              "(tensor([[0.0000],\n",
              "         [0.0200],\n",
              "         [0.0400],\n",
              "         [0.0600],\n",
              "         [0.0800]]),\n",
              " tensor([[0.3000],\n",
              "         [0.3140],\n",
              "         [0.3280],\n",
              "         [0.3420],\n",
              "         [0.3560]]))"
            ]
          },
          "execution_count": 50,
          "metadata": {},
          "output_type": "execute_result"
        }
      ],
      "source": [
        "X_train[:5], Y_train[:5]"
      ]
    },
    {
      "cell_type": "code",
      "execution_count": null,
      "metadata": {
        "colab": {
          "background_save": true
        },
        "id": "uGe6-tLByKB1",
        "outputId": "5ce89fb0-70e5-40d4-aae7-c0ddbe9e02c9"
      },
      "outputs": [
        {
          "data": {
            "text/plain": [
              "device(type='cpu')"
            ]
          },
          "execution_count": 51,
          "metadata": {},
          "output_type": "execute_result"
        }
      ],
      "source": [
        "next(model_1.parameters()).device"
      ]
    },
    {
      "cell_type": "code",
      "execution_count": null,
      "metadata": {
        "colab": {
          "background_save": true
        },
        "id": "QoESjUl9k3rR",
        "outputId": "f72ad407-d275-4752-dbb0-4c45e09b7294"
      },
      "outputs": [
        {
          "data": {
            "text/plain": [
              "device(type='cuda', index=0)"
            ]
          },
          "execution_count": 52,
          "metadata": {},
          "output_type": "execute_result"
        }
      ],
      "source": [
        "model_1. to(device)\n",
        "next(model_1.parameters()).device"
      ]
    },
    {
      "cell_type": "markdown",
      "metadata": {
        "id": "rMMHwvGgm2fq"
      },
      "source": [
        "#Training"
      ]
    },
    {
      "cell_type": "code",
      "execution_count": null,
      "metadata": {
        "colab": {
          "background_save": true
        },
        "id": "6rUbASj4k3uD"
      },
      "outputs": [],
      "source": [
        "loss_fn=nn.L1Loss()\n",
        "\n",
        "optimizer=torch.optim.SGD(params=model_1.parameters(),\n",
        "                          lr=0.1)"
      ]
    },
    {
      "cell_type": "code",
      "execution_count": null,
      "metadata": {
        "colab": {
          "background_save": true
        },
        "id": "F7jV8Q5qk3w6",
        "outputId": "17fa60b2-e3f9-4ee3-f887-9dd25f736cc5"
      },
      "outputs": [
        {
          "name": "stdout",
          "output_type": "stream",
          "text": [
            "Epoch:0 | Loss:0.308445 | Test loss:0.327686\n",
            "Epoch:10 | Loss:0.193251 | Test loss:0.193767\n",
            "Epoch:20 | Loss:0.121194 | Test loss:0.112706\n",
            "Epoch:30 | Loss:0.076118 | Test loss:0.064117\n",
            "Epoch:40 | Loss:0.047917 | Test loss:0.035377\n",
            "Epoch:50 | Loss:0.030273 | Test loss:0.018689\n",
            "Epoch:60 | Loss:0.019232 | Test loss:0.009257\n",
            "Epoch:70 | Loss:0.012320 | Test loss:0.004140\n",
            "Epoch:80 | Loss:0.007991 | Test loss:0.001548\n",
            "Epoch:90 | Loss:0.005279 | Test loss:0.000399\n",
            "Epoch:100 | Loss:0.003577 | Test loss:0.000047\n",
            "Epoch:110 | Loss:0.002508 | Test loss:0.000108\n",
            "Epoch:120 | Loss:0.001834 | Test loss:0.000364\n",
            "Epoch:130 | Loss:0.001407 | Test loss:0.000689\n",
            "Epoch:140 | Loss:0.001136 | Test loss:0.001018\n",
            "Epoch:150 | Loss:0.000962 | Test loss:0.001318\n",
            "Epoch:160 | Loss:0.000848 | Test loss:0.001576\n",
            "Epoch:170 | Loss:0.000772 | Test loss:0.001788\n",
            "Epoch:180 | Loss:0.000721 | Test loss:0.001956\n",
            "Epoch:190 | Loss:0.000684 | Test loss:0.002086\n"
          ]
        }
      ],
      "source": [
        "loss_fn = nn.MSELoss()\n",
        "optimizer = torch.optim.SGD(model_1.parameters(), lr=0.01)\n",
        "\n",
        "torch.manual_seed(42)\n",
        "epochs = 200\n",
        "\n",
        "X_train = X_train.to(device)\n",
        "Y_train = Y_train.to(device)\n",
        "X_test = X_test.to(device)\n",
        "Y_test = Y_test.to(device)\n",
        "\n",
        "for epoch in range(epochs):\n",
        "    model_1.train()\n",
        "    y_pred = model_1(X_train)\n",
        "    loss = loss_fn(y_pred, Y_train)\n",
        "\n",
        "    optimizer.zero_grad()\n",
        "    loss.backward()\n",
        "    optimizer.step()\n",
        "\n",
        "    model_1.eval()\n",
        "    with torch.inference_mode():\n",
        "        test_pred = model_1(X_test)\n",
        "        test_loss = loss_fn(test_pred, Y_test)\n",
        "\n",
        "    if epoch % 10 == 0:\n",
        "        print(f\"Epoch:{epoch} | Loss:{loss.item():.6f} | Test loss:{test_loss.item():.6f}\")\n"
      ]
    },
    {
      "cell_type": "code",
      "execution_count": null,
      "metadata": {
        "colab": {
          "background_save": true
        },
        "id": "_5hx-ecyk30B",
        "outputId": "1c5cbe97-e852-4eb3-f193-dc05eaf0b238"
      },
      "outputs": [
        {
          "data": {
            "text/plain": [
              "OrderedDict([('linear_layer.weight', tensor([[0.5933]], device='cuda:0')),\n",
              "             ('linear_layer.bias', tensor([0.3487], device='cuda:0'))])"
            ]
          },
          "execution_count": 55,
          "metadata": {},
          "output_type": "execute_result"
        }
      ],
      "source": [
        "model_1.state_dict()"
      ]
    },
    {
      "cell_type": "code",
      "execution_count": null,
      "metadata": {
        "colab": {
          "background_save": true
        },
        "id": "Pu_MwENMyKEi",
        "outputId": "5e4ca283-19e8-49aa-ba23-94c460f5c643"
      },
      "outputs": [
        {
          "data": {
            "text/plain": [
              "(0.7, 0.3)"
            ]
          },
          "execution_count": 56,
          "metadata": {},
          "output_type": "execute_result"
        }
      ],
      "source": [
        "weight, bias"
      ]
    },
    {
      "cell_type": "code",
      "execution_count": null,
      "metadata": {
        "colab": {
          "background_save": true
        },
        "id": "YjBK34uSyKHB",
        "outputId": "4d971777-1244-4f6d-d858-39c5d2b94bbc"
      },
      "outputs": [
        {
          "data": {
            "text/plain": [
              "tensor([[0.7724],\n",
              "        [0.7818],\n",
              "        [0.7912],\n",
              "        [0.8006],\n",
              "        [0.8101],\n",
              "        [0.8195],\n",
              "        [0.8289],\n",
              "        [0.8383],\n",
              "        [0.8477],\n",
              "        [0.8571]])"
            ]
          },
          "execution_count": 57,
          "metadata": {},
          "output_type": "execute_result"
        }
      ],
      "source": [
        "model_1.eval()\n",
        "\n",
        "with torch.inference_mode():\n",
        "  y_peds=model_1(X_test)\n",
        "y_preds"
      ]
    },
    {
      "cell_type": "code",
      "execution_count": null,
      "metadata": {
        "colab": {
          "background_save": true
        },
        "id": "egq1JRBSpmmi",
        "outputId": "96afab75-112c-467a-a8bc-78c4184448e2"
      },
      "outputs": [
        {
          "data": {
            "image/png": "[encoded data removed]",
            "text/plain": [
              "<Figure size 1000x700 with 1 Axes>"
            ]
          },
          "metadata": {},
          "output_type": "display_data"
        }
      ],
      "source": [
        "plot_predictions(predictions=y_preds.cpu())"
      ]
    },
    {
      "cell_type": "markdown",
      "metadata": {
        "id": "obl-Qg7VzPyQ"
      },
      "source": [
        "#Saving and loading a trained model"
      ]
    },
    {
      "cell_type": "code",
      "execution_count": null,
      "metadata": {
        "colab": {
          "background_save": true
        },
        "id": "iuVnTwNopmpL",
        "outputId": "145370e4-ea23-4a92-edb3-8ffcb167e587"
      },
      "outputs": [
        {
          "name": "stdout",
          "output_type": "stream",
          "text": [
            "Saving model to: models/Untitled1_1.pth\n"
          ]
        }
      ],
      "source": [
        "from pathlib import Path\n",
        "\n",
        "MODEL_PATH=Path(\"models\")\n",
        "MODEL_PATH.mkdir(parents=True, exist_ok=True)\n",
        "\n",
        "MODEL_NAME=\"Untitled1_1.pth\"\n",
        "MODEL_SAVE_PATH = MODEL_PATH/MODEL_NAME\n",
        "MODEL_SAVE_PATH\n",
        "\n",
        "print(f\"Saving model to: {MODEL_SAVE_PATH}\")\n",
        "torch.save(obj=model_1.state_dict(),\n",
        "           f=MODEL_SAVE_PATH)\n"
      ]
    },
    {
      "cell_type": "code",
      "execution_count": null,
      "metadata": {
        "colab": {
          "background_save": true
        },
        "id": "7G4iC6thpmr8",
        "outputId": "d88dad7a-aed6-424e-d22d-35ee605db79d"
      },
      "outputs": [
        {
          "data": {
            "text/plain": [
              "OrderedDict([('linear_layer.weight', tensor([[0.5933]], device='cuda:0')),\n",
              "             ('linear_layer.bias', tensor([0.3487], device='cuda:0'))])"
            ]
          },
          "execution_count": 60,
          "metadata": {},
          "output_type": "execute_result"
        }
      ],
      "source": [
        "model_1.state_dict()"
      ]
    },
    {
      "cell_type": "code",
      "execution_count": null,
      "metadata": {
        "colab": {
          "background_save": true
        },
        "id": "XQn_4QAfpmui",
        "outputId": "9b2ed40d-3bee-491e-c2a6-c8f0165e112c"
      },
      "outputs": [
        {
          "data": {
            "text/plain": [
              "LinearRegressionModelV2(\n",
              "  (linear_layer): Linear(in_features=1, out_features=1, bias=True)\n",
              ")"
            ]
          },
          "execution_count": 61,
          "metadata": {},
          "output_type": "execute_result"
        }
      ],
      "source": [
        "loaded_model_1 = LinearRegressionModelV2()\n",
        "loaded_model_1.load_state_dict(torch.load(MODEL_SAVE_PATH))\n",
        "loaded_model_1.to(device)\n"
      ]
    },
    {
      "cell_type": "code",
      "execution_count": null,
      "metadata": {
        "colab": {
          "background_save": true
        },
        "id": "KeUmMEl2pmxJ",
        "outputId": "ceb2373f-35dc-4874-a630-4c2533c74f80"
      },
      "outputs": [
        {
          "ename": "RuntimeError",
          "evalue": "Expected all tensors to be on the same device, but found at least two devices, cuda:0 and cpu!",
          "output_type": "error",
          "traceback": [
            "\u001b[0;31m---------------------------------------------------------------------------\u001b[0m",
            "\u001b[0;31mRuntimeError\u001b[0m                              Traceback (most recent call last)",
            "\u001b[0;32m/tmp/ipython-input-62-2641521620.py\u001b[0m in \u001b[0;36m<cell line: 0>\u001b[0;34m()\u001b[0m\n\u001b[1;32m      2\u001b[0m \u001b[0;32mwith\u001b[0m \u001b[0mtorch\u001b[0m\u001b[0;34m.\u001b[0m\u001b[0minference_mode\u001b[0m\u001b[0;34m(\u001b[0m\u001b[0;34m)\u001b[0m\u001b[0;34m:\u001b[0m\u001b[0;34m\u001b[0m\u001b[0;34m\u001b[0m\u001b[0m\n\u001b[1;32m      3\u001b[0m   \u001b[0mloaded_model_1_preds\u001b[0m\u001b[0;34m=\u001b[0m\u001b[0mloaded_model_1\u001b[0m\u001b[0;34m(\u001b[0m\u001b[0mX_test\u001b[0m\u001b[0;34m)\u001b[0m\u001b[0;34m\u001b[0m\u001b[0;34m\u001b[0m\u001b[0m\n\u001b[0;32m----> 4\u001b[0;31m \u001b[0my_preds\u001b[0m\u001b[0;34m==\u001b[0m\u001b[0mloaded_model_1_preds\u001b[0m\u001b[0;34m\u001b[0m\u001b[0;34m\u001b[0m\u001b[0m\n\u001b[0m",
            "\u001b[0;31mRuntimeError\u001b[0m: Expected all tensors to be on the same device, but found at least two devices, cuda:0 and cpu!"
          ]
        }
      ],
      "source": [
        "loaded_model_1.eval()\n",
        "with torch.inference_mode():\n",
        "  loaded_model_1_preds=loaded_model_1(X_test)\n",
        "y_preds==loaded_model_1_preds"
      ]
    },
    {
      "cell_type": "code",
      "execution_count": null,
      "metadata": {
        "colab": {
          "background_save": true
        },
        "id": "gIgqLky713ki"
      },
      "outputs": [],
      "source": []
    },
    {
      "cell_type": "code",
      "execution_count": null,
      "metadata": {
        "colab": {
          "background_save": true
        },
        "id": "97w4jv4013nP"
      },
      "outputs": [],
      "source": []
    },
    {
      "cell_type": "code",
      "execution_count": null,
      "metadata": {
        "colab": {
          "background_save": true
        },
        "id": "tZB0DvMN13pi"
      },
      "outputs": [],
      "source": []
    }
  ],
  "metadata": {
    "accelerator": "GPU",
    "colab": {
      "gpuType": "T4",
      "provenance": []
    },
    "kernelspec": {
      "display_name": "Python 3",
      "name": "python3"
    },
    "language_info": {
      "name": "python"
    }
  },
  "nbformat": 4,
  "nbformat_minor": 0
}